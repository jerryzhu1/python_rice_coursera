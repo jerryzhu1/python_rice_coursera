{
 "cells": [
  {
   "cell_type": "markdown",
   "metadata": {},
   "source": [
    "# Mini-project development process\n",
    "\n",
    "Build a helper function name_to_number(name) that converts the string\n",
    "name into a number between 0 and 4 as described above. This function\n",
    "should use a sequence of if/elif/else clauses. You can use conditions\n",
    "of the form name == 'paper', etc. to distinguish the cases. To make\n",
    "debugging your code easier, we suggest including a final else clause\n",
    "that catches cases when name does not match any of the five correct\n",
    "input strings and prints an appropriate error message. You can test\n",
    "your implementation of name_to_number() using this name_to_number\n",
    "testing template. (Also available in the Code Clinic tips thread).\n",
    "Next, you should build a second helper function number_to_name(number)\n",
    "that converts a number in the range 0 to 4 into its corresponding name\n",
    "as a string. Again, we suggest including a final else clause that\n",
    "catches cases when number is not in the correct range. You can test\n",
    "your implementation of number_to_name() using this number_to_name\n",
    "testing template.\n",
    "\n",
    "Implement the first part of the main function rpsls(player_choice).\n",
    "Print out a blank line (to separate consecutive games) followed by a\n",
    "line with an appropriate message describing the player's choice. Then\n",
    "compute the number player_number between 0 and 4 corresponding to the\n",
    "player's choice by calling the helper function name_to_number() using\n",
    "player_choice.\n",
    "\n",
    "Implement the second part of rpsls() that generates the computer's\n",
    "guess and prints out an appropriate message for that guess. In\n",
    "particular, compute a random number comp_number between 0 and 4 that\n",
    "corresponds to the computer's guess using the function\n",
    "random.randrange(). We suggest experimenting with randrange in a\n",
    "separate CodeSkulptor window before deciding on how to call it to make\n",
    "sure that you do not accidently generate numbers in the wrong range.\n",
    "\n",
    "Then compute the name comp_choice corresponding to the computer's\n",
    "number using the function number_to_name() and print an appropriate\n",
    "message with the computer's choice to the console.\n",
    "\n",
    "Implement the last part of rpsls() that determines and prints out the\n",
    "winner. Specifically, compute the difference between comp_number and\n",
    "player_number taken modulo five. Then write an if/elif/else statement\n",
    "whose conditions test the various possible values of this difference\n",
    "and then prints an appropriate message concerning the winner. If you\n",
    "have trouble deriving the conditions for the clauses of this\n",
    "if/elif/else statement, we suggest reviewing the \"RPSLS\" video which\n",
    "describes a simple test for determine the winner of RPSLS."
   ]
  }
 ],
 "metadata": {
  "kernelspec": {
   "display_name": "Python 2",
   "language": "python",
   "name": "python2"
  },
  "language_info": {
   "codemirror_mode": {
    "name": "ipython",
    "version": 2
   },
   "file_extension": ".py",
   "mimetype": "text/x-python",
   "name": "python",
   "nbconvert_exporter": "python",
   "pygments_lexer": "ipython2",
   "version": "2.7.10"
  }
 },
 "nbformat": 4,
 "nbformat_minor": 0
}
